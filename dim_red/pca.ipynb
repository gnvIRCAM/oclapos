{
 "cells": [
  {
   "cell_type": "code",
   "execution_count": 1,
   "metadata": {},
   "outputs": [],
   "source": [
    "import os \n",
    "import numpy as np\n",
    "import torch\n",
    "torch.set_grad_enabled(False)\n",
    "import onnxruntime\n",
    "from tqdm import tqdm\n",
    "import librosa as li\n",
    "import soundfile as sf\n",
    "_AVAILABLE_EXTS =  [k.lower() for k in  sf.available_formats().keys()]"
   ]
  },
  {
   "cell_type": "code",
   "execution_count": 2,
   "metadata": {},
   "outputs": [
    {
     "name": "stderr",
     "output_type": "stream",
     "text": [
      "                                                                                                                                                                                                                              \r"
     ]
    }
   ],
   "source": [
    "ort_session = onnxruntime.InferenceSession(\"/data/genova/msclap_onnx/clap.onnx\", providers=[\"CPUExecutionProvider\"])\n",
    "samples_folder = '/data/genova/msclap_onnx/dim_red/samples/Real Drums Vol. 1'\n",
    "if samples_folder is None:\n",
    "    raise ValueError('Please select a valid folder of samples')\n",
    "files = []\n",
    "for root, _, _files in os.walk(samples_folder):\n",
    "    for f in tqdm(_files, leave=False):\n",
    "        if np.any([f.endswith(ext) for ext in _AVAILABLE_EXTS]):\n",
    "            files.append(os.path.join(root, f)) "
   ]
  },
  {
   "cell_type": "code",
   "execution_count": 9,
   "metadata": {},
   "outputs": [],
   "source": [
    "for file in files:\n",
    "    y, sr = li.load(file)"
   ]
  },
  {
   "cell_type": "code",
   "execution_count": 8,
   "metadata": {},
   "outputs": [
    {
     "data": {
      "text/plain": [
       "array([ 3.89292836e-07, -1.17346644e-07, -6.70552254e-08, ...,\n",
       "        9.28994268e-08, -1.06207153e-07,  1.24229700e-07], dtype=float32)"
      ]
     },
     "execution_count": 8,
     "metadata": {},
     "output_type": "execute_result"
    }
   ],
   "source": [
    "y"
   ]
  },
  {
   "cell_type": "code",
   "execution_count": 1,
   "metadata": {},
   "outputs": [
    {
     "ename": "NameError",
     "evalue": "name 'onnxruntime' is not defined",
     "output_type": "error",
     "traceback": [
      "\u001b[0;31m---------------------------------------------------------------------------\u001b[0m",
      "\u001b[0;31mNameError\u001b[0m                                 Traceback (most recent call last)",
      "Cell \u001b[0;32mIn[1], line 1\u001b[0m\n\u001b[0;32m----> 1\u001b[0m ort_session \u001b[38;5;241m=\u001b[39m \u001b[43monnxruntime\u001b[49m\u001b[38;5;241m.\u001b[39mInferenceSession(\u001b[38;5;124m\"\u001b[39m\u001b[38;5;124m/data/genova/msclap_onnx/clap.onnx\u001b[39m\u001b[38;5;124m\"\u001b[39m, providers\u001b[38;5;241m=\u001b[39m[\u001b[38;5;124m\"\u001b[39m\u001b[38;5;124mCPUExecutionProvider\u001b[39m\u001b[38;5;124m\"\u001b[39m])\n\u001b[1;32m      2\u001b[0m samples_folder \u001b[38;5;241m=\u001b[39m \u001b[38;5;124m'\u001b[39m\u001b[38;5;124m/data/genova/msclap_onnx/dim_red/samples/Real Drums Vol. 1\u001b[39m\u001b[38;5;124m'\u001b[39m\n\u001b[1;32m      3\u001b[0m \u001b[38;5;28;01mif\u001b[39;00m samples_folder \u001b[38;5;129;01mis\u001b[39;00m \u001b[38;5;28;01mNone\u001b[39;00m:\n",
      "\u001b[0;31mNameError\u001b[0m: name 'onnxruntime' is not defined"
     ]
    }
   ],
   "source": [
    "ort_session = onnxruntime.InferenceSession(\"/data/genova/msclap_onnx/clap.onnx\", providers=[\"CPUExecutionProvider\"])\n",
    "samples_folder = '/data/genova/msclap_onnx/dim_red/samples/Real Drums Vol. 1'\n",
    "if samples_folder is None:\n",
    "    raise ValueError('Please select a valid folder of samples')\n",
    "files = []\n",
    "for root, _, _files in os.walk(samples_folder):\n",
    "    for f in tqdm(_files, leave=False):\n",
    "        if np.any([f.endswith(ext) for ext in _AVAILABLE_EXTS]):\n",
    "            files.append(os.path.join(root, f)) \n",
    "embeddings = []\n",
    "\n",
    "for file in tqdm(files):\n",
    "    y, sr = li.load(path=file)\n",
    "    # if y.shape[0]==2:\n",
    "    #     y = y.mean(0)[None, :]\n",
    "    # if sr!=22050:\n",
    "    #     y = li.resample(y, sr, 22050)\n",
    "    # if y.ndim==1:\n",
    "    #     y = y [None, :]\n",
    "    # print(y.shape)\n",
    "    # y = y.astype(np.float32)\n",
    "    # ort_inputs = {ort_session.get_inputs()[0].name: y}\n",
    "    # ort_outs = ort_session.run(None, ort_inputs)\n",
    "    # embeddings.append(ort_outs)\n"
   ]
  },
  {
   "cell_type": "code",
   "execution_count": 4,
   "metadata": {},
   "outputs": [],
   "source": [
    "y, sr = li.load('/data/genova/msclap_onnx/dim_red/samples/Real Drums Vol. 1/Percussion/Egg Shaker/RD_P_ES_16_160BPM.wav')"
   ]
  },
  {
   "cell_type": "code",
   "execution_count": null,
   "metadata": {},
   "outputs": [],
   "source": [
    "files"
   ]
  },
  {
   "cell_type": "code",
   "execution_count": null,
   "metadata": {},
   "outputs": [],
   "source": [
    "import sklearn.decomposition\n",
    "\n",
    "\n",
    "embs = np.concatenate([e[0] for e in embeddings])\n",
    "embs = embs-embs.mean(0)\n",
    "pca = sklearn.decomposition.PCA(n_components=2)\n",
    "pca.fit(embs)"
   ]
  },
  {
   "cell_type": "code",
   "execution_count": null,
   "metadata": {},
   "outputs": [],
   "source": [
    "components = pca.components_"
   ]
  },
  {
   "cell_type": "code",
   "execution_count": null,
   "metadata": {},
   "outputs": [],
   "source": [
    "embs_2d = embs @ components.T"
   ]
  },
  {
   "cell_type": "code",
   "execution_count": null,
   "metadata": {},
   "outputs": [],
   "source": [
    "embs_2d.shape"
   ]
  }
 ],
 "metadata": {
  "kernelspec": {
   "display_name": "Python 3",
   "language": "python",
   "name": "python3"
  },
  "language_info": {
   "codemirror_mode": {
    "name": "ipython",
    "version": 3
   },
   "file_extension": ".py",
   "mimetype": "text/x-python",
   "name": "python",
   "nbconvert_exporter": "python",
   "pygments_lexer": "ipython3",
   "version": "3.10.13"
  }
 },
 "nbformat": 4,
 "nbformat_minor": 4
}
